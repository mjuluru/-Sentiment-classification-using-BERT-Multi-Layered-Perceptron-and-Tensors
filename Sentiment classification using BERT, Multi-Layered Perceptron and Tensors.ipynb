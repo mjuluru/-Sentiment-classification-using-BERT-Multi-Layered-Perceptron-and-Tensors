{
  "nbformat": 4,
  "nbformat_minor": 0,
  "metadata": {
    "colab": {
      "name": "MJ_BERT,MLP - 1.ipynb",
      "provenance": [],
      "collapsed_sections": []
    },
    "kernelspec": {
      "name": "python3",
      "display_name": "Python 3"
    },
    "language_info": {
      "name": "python"
    },
    "accelerator": "GPU"
  },
  "cells": [
    {
      "cell_type": "markdown",
      "metadata": {
        "id": "4B_HY15jAsi7"
      },
      "source": [
        "**Importing packages**"
      ]
    },
    {
      "cell_type": "code",
      "metadata": {
        "colab": {
          "base_uri": "https://localhost:8080/"
        },
        "id": "GFEnwnQbCxjw",
        "outputId": "d0c9260a-5af9-4cbf-f4ff-989edb6e5b67"
      },
      "source": [
        "# mounting google drive\n",
        "\n",
        "from google.colab import drive\n",
        "drive.mount('/content/drive')"
      ],
      "execution_count": 134,
      "outputs": [
        {
          "output_type": "stream",
          "name": "stdout",
          "text": [
            "Drive already mounted at /content/drive; to attempt to forcibly remount, call drive.mount(\"/content/drive\", force_remount=True).\n"
          ]
        }
      ]
    },
    {
      "cell_type": "code",
      "metadata": {
        "colab": {
          "base_uri": "https://localhost:8080/"
        },
        "id": "CE0AQ3hUWcvu",
        "outputId": "3da750ca-3057-4cdf-cd3f-2cfba0d9c873"
      },
      "source": [
        "# changing current working directory\n",
        "\n",
        "import os\n",
        "print(os.getcwd())\n",
        "os.chdir('/content/drive/MyDrive/Colab Notebooks')\n",
        "print(os.getcwd())"
      ],
      "execution_count": 135,
      "outputs": [
        {
          "output_type": "stream",
          "name": "stdout",
          "text": [
            "/content/drive/My Drive/Colab Notebooks\n",
            "/content/drive/MyDrive/Colab Notebooks\n"
          ]
        }
      ]
    },
    {
      "cell_type": "code",
      "metadata": {
        "colab": {
          "base_uri": "https://localhost:8080/"
        },
        "id": "RUjWImCrfAsQ",
        "outputId": "963d7c94-a629-46d8-8044-a6f9a9b42778"
      },
      "source": [
        "# install torch\n",
        "\n",
        "!pip install torch\n",
        "import torch\n",
        "import torch.nn as nn"
      ],
      "execution_count": 136,
      "outputs": [
        {
          "output_type": "stream",
          "name": "stdout",
          "text": [
            "Requirement already satisfied: torch in /usr/local/lib/python3.7/dist-packages (1.9.0+cu102)\n",
            "Requirement already satisfied: typing-extensions in /usr/local/lib/python3.7/dist-packages (from torch) (3.7.4.3)\n"
          ]
        }
      ]
    },
    {
      "cell_type": "code",
      "metadata": {
        "id": "1jfwTlqoQlO2"
      },
      "source": [
        "# specify GPU\n",
        "\n",
        "device = torch.device(\"cuda\")"
      ],
      "execution_count": 137,
      "outputs": []
    },
    {
      "cell_type": "code",
      "metadata": {
        "id": "gxMhY-sffApd"
      },
      "source": [
        "# defining SEED\n",
        "\n",
        "import random\n",
        "import numpy as np\n",
        "import pandas as pd\n",
        "\n",
        "SEED = 132\n",
        "random.seed(SEED)\n",
        "np.random.seed(SEED)\n",
        "torch.manual_seed(SEED)\n",
        "torch.backends.cudnn.deterministic = True "
      ],
      "execution_count": 138,
      "outputs": []
    },
    {
      "cell_type": "code",
      "metadata": {
        "colab": {
          "base_uri": "https://localhost:8080/"
        },
        "id": "Q3pyLq8GfAm8",
        "outputId": "64c80be1-6a29-4008-88e3-37bd913b73f2"
      },
      "source": [
        "# installing transformers\n",
        "\n",
        "!pip install transformers\n",
        "from transformers import BertTokenizer"
      ],
      "execution_count": 139,
      "outputs": [
        {
          "output_type": "stream",
          "name": "stdout",
          "text": [
            "Requirement already satisfied: transformers in /usr/local/lib/python3.7/dist-packages (4.10.0)\n",
            "Requirement already satisfied: tokenizers<0.11,>=0.10.1 in /usr/local/lib/python3.7/dist-packages (from transformers) (0.10.3)\n",
            "Requirement already satisfied: numpy>=1.17 in /usr/local/lib/python3.7/dist-packages (from transformers) (1.19.5)\n",
            "Requirement already satisfied: filelock in /usr/local/lib/python3.7/dist-packages (from transformers) (3.0.12)\n",
            "Requirement already satisfied: huggingface-hub>=0.0.12 in /usr/local/lib/python3.7/dist-packages (from transformers) (0.0.16)\n",
            "Requirement already satisfied: packaging in /usr/local/lib/python3.7/dist-packages (from transformers) (21.0)\n",
            "Requirement already satisfied: regex!=2019.12.17 in /usr/local/lib/python3.7/dist-packages (from transformers) (2019.12.20)\n",
            "Requirement already satisfied: tqdm>=4.27 in /usr/local/lib/python3.7/dist-packages (from transformers) (4.62.0)\n",
            "Requirement already satisfied: importlib-metadata in /usr/local/lib/python3.7/dist-packages (from transformers) (4.6.4)\n",
            "Requirement already satisfied: pyyaml>=5.1 in /usr/local/lib/python3.7/dist-packages (from transformers) (5.4.1)\n",
            "Requirement already satisfied: sacremoses in /usr/local/lib/python3.7/dist-packages (from transformers) (0.0.45)\n",
            "Requirement already satisfied: requests in /usr/local/lib/python3.7/dist-packages (from transformers) (2.23.0)\n",
            "Requirement already satisfied: typing-extensions in /usr/local/lib/python3.7/dist-packages (from huggingface-hub>=0.0.12->transformers) (3.7.4.3)\n",
            "Requirement already satisfied: pyparsing>=2.0.2 in /usr/local/lib/python3.7/dist-packages (from packaging->transformers) (2.4.7)\n",
            "Requirement already satisfied: zipp>=0.5 in /usr/local/lib/python3.7/dist-packages (from importlib-metadata->transformers) (3.5.0)\n",
            "Requirement already satisfied: chardet<4,>=3.0.2 in /usr/local/lib/python3.7/dist-packages (from requests->transformers) (3.0.4)\n",
            "Requirement already satisfied: certifi>=2017.4.17 in /usr/local/lib/python3.7/dist-packages (from requests->transformers) (2021.5.30)\n",
            "Requirement already satisfied: idna<3,>=2.5 in /usr/local/lib/python3.7/dist-packages (from requests->transformers) (2.10)\n",
            "Requirement already satisfied: urllib3!=1.25.0,!=1.25.1,<1.26,>=1.21.1 in /usr/local/lib/python3.7/dist-packages (from requests->transformers) (1.24.3)\n",
            "Requirement already satisfied: joblib in /usr/local/lib/python3.7/dist-packages (from sacremoses->transformers) (1.0.1)\n",
            "Requirement already satisfied: click in /usr/local/lib/python3.7/dist-packages (from sacremoses->transformers) (7.1.2)\n",
            "Requirement already satisfied: six in /usr/local/lib/python3.7/dist-packages (from sacremoses->transformers) (1.15.0)\n"
          ]
        }
      ]
    },
    {
      "cell_type": "markdown",
      "metadata": {
        "id": "KColy4EsAzoo"
      },
      "source": [
        "**Importing Dataset**"
      ]
    },
    {
      "cell_type": "code",
      "metadata": {
        "id": "Ld82nsnNhyN0"
      },
      "source": [
        "# Intializing the parameters for reading the dataset\n",
        "\n",
        "columns = ['target','ids','date','flag','user','text']\n",
        "encoding = \"ISO-8859-1\"\n",
        "\n",
        "# Reading dataset\n",
        "\n",
        "dataset_twitter = pd.read_csv('/content/drive/MyDrive/Colab Notebooks/dataset.csv',\n",
        "                              header = None, encoding = encoding, names = columns)\n",
        "\n",
        "# Dropping the not required columns\n",
        "\n",
        "dataset_twitter = dataset_twitter.drop(columns = ['ids', 'date', 'flag', 'user'])\n",
        "\n",
        "# Replacing the target class '4' with '1'\n",
        "\n",
        "dataset_twitter['target'].replace({4: 1}, inplace=True)"
      ],
      "execution_count": 140,
      "outputs": []
    },
    {
      "cell_type": "code",
      "metadata": {
        "colab": {
          "base_uri": "https://localhost:8080/",
          "height": 419
        },
        "id": "gFORB3pfFXCF",
        "outputId": "34371fb3-f698-4fa8-fae7-f7785285751e"
      },
      "source": [
        "dataset_twitter"
      ],
      "execution_count": 141,
      "outputs": [
        {
          "output_type": "execute_result",
          "data": {
            "text/html": [
              "<div>\n",
              "<style scoped>\n",
              "    .dataframe tbody tr th:only-of-type {\n",
              "        vertical-align: middle;\n",
              "    }\n",
              "\n",
              "    .dataframe tbody tr th {\n",
              "        vertical-align: top;\n",
              "    }\n",
              "\n",
              "    .dataframe thead th {\n",
              "        text-align: right;\n",
              "    }\n",
              "</style>\n",
              "<table border=\"1\" class=\"dataframe\">\n",
              "  <thead>\n",
              "    <tr style=\"text-align: right;\">\n",
              "      <th></th>\n",
              "      <th>target</th>\n",
              "      <th>text</th>\n",
              "    </tr>\n",
              "  </thead>\n",
              "  <tbody>\n",
              "    <tr>\n",
              "      <th>0</th>\n",
              "      <td>0</td>\n",
              "      <td>@switchfoot http://twitpic.com/2y1zl - Awww, t...</td>\n",
              "    </tr>\n",
              "    <tr>\n",
              "      <th>1</th>\n",
              "      <td>0</td>\n",
              "      <td>is upset that he can't update his Facebook by ...</td>\n",
              "    </tr>\n",
              "    <tr>\n",
              "      <th>2</th>\n",
              "      <td>0</td>\n",
              "      <td>@Kenichan I dived many times for the ball. Man...</td>\n",
              "    </tr>\n",
              "    <tr>\n",
              "      <th>3</th>\n",
              "      <td>0</td>\n",
              "      <td>my whole body feels itchy and like its on fire</td>\n",
              "    </tr>\n",
              "    <tr>\n",
              "      <th>4</th>\n",
              "      <td>0</td>\n",
              "      <td>@nationwideclass no, it's not behaving at all....</td>\n",
              "    </tr>\n",
              "    <tr>\n",
              "      <th>...</th>\n",
              "      <td>...</td>\n",
              "      <td>...</td>\n",
              "    </tr>\n",
              "    <tr>\n",
              "      <th>1599995</th>\n",
              "      <td>1</td>\n",
              "      <td>Just woke up. Having no school is the best fee...</td>\n",
              "    </tr>\n",
              "    <tr>\n",
              "      <th>1599996</th>\n",
              "      <td>1</td>\n",
              "      <td>TheWDB.com - Very cool to hear old Walt interv...</td>\n",
              "    </tr>\n",
              "    <tr>\n",
              "      <th>1599997</th>\n",
              "      <td>1</td>\n",
              "      <td>Are you ready for your MoJo Makeover? Ask me f...</td>\n",
              "    </tr>\n",
              "    <tr>\n",
              "      <th>1599998</th>\n",
              "      <td>1</td>\n",
              "      <td>Happy 38th Birthday to my boo of alll time!!! ...</td>\n",
              "    </tr>\n",
              "    <tr>\n",
              "      <th>1599999</th>\n",
              "      <td>1</td>\n",
              "      <td>happy #charitytuesday @theNSPCC @SparksCharity...</td>\n",
              "    </tr>\n",
              "  </tbody>\n",
              "</table>\n",
              "<p>1600000 rows × 2 columns</p>\n",
              "</div>"
            ],
            "text/plain": [
              "         target                                               text\n",
              "0             0  @switchfoot http://twitpic.com/2y1zl - Awww, t...\n",
              "1             0  is upset that he can't update his Facebook by ...\n",
              "2             0  @Kenichan I dived many times for the ball. Man...\n",
              "3             0    my whole body feels itchy and like its on fire \n",
              "4             0  @nationwideclass no, it's not behaving at all....\n",
              "...         ...                                                ...\n",
              "1599995       1  Just woke up. Having no school is the best fee...\n",
              "1599996       1  TheWDB.com - Very cool to hear old Walt interv...\n",
              "1599997       1  Are you ready for your MoJo Makeover? Ask me f...\n",
              "1599998       1  Happy 38th Birthday to my boo of alll time!!! ...\n",
              "1599999       1  happy #charitytuesday @theNSPCC @SparksCharity...\n",
              "\n",
              "[1600000 rows x 2 columns]"
            ]
          },
          "metadata": {},
          "execution_count": 141
        }
      ]
    },
    {
      "cell_type": "code",
      "metadata": {
        "colab": {
          "base_uri": "https://localhost:8080/",
          "height": 204
        },
        "id": "oleKvELkhyLy",
        "outputId": "034acf12-5583-4f7f-b7c3-feb57aaa99f9"
      },
      "source": [
        "#Sample data\n",
        "\n",
        "dataset_twitter.head()"
      ],
      "execution_count": 142,
      "outputs": [
        {
          "output_type": "execute_result",
          "data": {
            "text/html": [
              "<div>\n",
              "<style scoped>\n",
              "    .dataframe tbody tr th:only-of-type {\n",
              "        vertical-align: middle;\n",
              "    }\n",
              "\n",
              "    .dataframe tbody tr th {\n",
              "        vertical-align: top;\n",
              "    }\n",
              "\n",
              "    .dataframe thead th {\n",
              "        text-align: right;\n",
              "    }\n",
              "</style>\n",
              "<table border=\"1\" class=\"dataframe\">\n",
              "  <thead>\n",
              "    <tr style=\"text-align: right;\">\n",
              "      <th></th>\n",
              "      <th>target</th>\n",
              "      <th>text</th>\n",
              "    </tr>\n",
              "  </thead>\n",
              "  <tbody>\n",
              "    <tr>\n",
              "      <th>0</th>\n",
              "      <td>0</td>\n",
              "      <td>@switchfoot http://twitpic.com/2y1zl - Awww, t...</td>\n",
              "    </tr>\n",
              "    <tr>\n",
              "      <th>1</th>\n",
              "      <td>0</td>\n",
              "      <td>is upset that he can't update his Facebook by ...</td>\n",
              "    </tr>\n",
              "    <tr>\n",
              "      <th>2</th>\n",
              "      <td>0</td>\n",
              "      <td>@Kenichan I dived many times for the ball. Man...</td>\n",
              "    </tr>\n",
              "    <tr>\n",
              "      <th>3</th>\n",
              "      <td>0</td>\n",
              "      <td>my whole body feels itchy and like its on fire</td>\n",
              "    </tr>\n",
              "    <tr>\n",
              "      <th>4</th>\n",
              "      <td>0</td>\n",
              "      <td>@nationwideclass no, it's not behaving at all....</td>\n",
              "    </tr>\n",
              "  </tbody>\n",
              "</table>\n",
              "</div>"
            ],
            "text/plain": [
              "   target                                               text\n",
              "0       0  @switchfoot http://twitpic.com/2y1zl - Awww, t...\n",
              "1       0  is upset that he can't update his Facebook by ...\n",
              "2       0  @Kenichan I dived many times for the ball. Man...\n",
              "3       0    my whole body feels itchy and like its on fire \n",
              "4       0  @nationwideclass no, it's not behaving at all...."
            ]
          },
          "metadata": {},
          "execution_count": 142
        }
      ]
    },
    {
      "cell_type": "code",
      "metadata": {
        "colab": {
          "base_uri": "https://localhost:8080/"
        },
        "id": "iJRpHzH6hyJ0",
        "outputId": "85c122bd-835f-4d13-cf0e-302d3ed356e5"
      },
      "source": [
        "# counting number of target values\n",
        "\n",
        "dataset_twitter['target'].value_counts()"
      ],
      "execution_count": 143,
      "outputs": [
        {
          "output_type": "execute_result",
          "data": {
            "text/plain": [
              "1    800000\n",
              "0    800000\n",
              "Name: target, dtype: int64"
            ]
          },
          "metadata": {},
          "execution_count": 143
        }
      ]
    },
    {
      "cell_type": "code",
      "metadata": {
        "colab": {
          "base_uri": "https://localhost:8080/",
          "height": 297
        },
        "id": "bO6p1BUSHAxi",
        "outputId": "925d7742-aead-444a-9a2b-03792581a051"
      },
      "source": [
        "# testing on stratifying code\n",
        "\n",
        "df = pd.DataFrame(dict(\n",
        "    A=[1, 1, 1, 1, 1, 1, 1, 2, 2, 2, 2, 2, 2],\n",
        "    B=range(13)\n",
        "))\n",
        "\n",
        "df.groupby('A', group_keys=False).apply(lambda x: x.sample(int(np.rint(8*len(x)/len(df))))).sample(frac=1).reset_index(drop=True)"
      ],
      "execution_count": 144,
      "outputs": [
        {
          "output_type": "execute_result",
          "data": {
            "text/html": [
              "<div>\n",
              "<style scoped>\n",
              "    .dataframe tbody tr th:only-of-type {\n",
              "        vertical-align: middle;\n",
              "    }\n",
              "\n",
              "    .dataframe tbody tr th {\n",
              "        vertical-align: top;\n",
              "    }\n",
              "\n",
              "    .dataframe thead th {\n",
              "        text-align: right;\n",
              "    }\n",
              "</style>\n",
              "<table border=\"1\" class=\"dataframe\">\n",
              "  <thead>\n",
              "    <tr style=\"text-align: right;\">\n",
              "      <th></th>\n",
              "      <th>A</th>\n",
              "      <th>B</th>\n",
              "    </tr>\n",
              "  </thead>\n",
              "  <tbody>\n",
              "    <tr>\n",
              "      <th>0</th>\n",
              "      <td>1</td>\n",
              "      <td>3</td>\n",
              "    </tr>\n",
              "    <tr>\n",
              "      <th>1</th>\n",
              "      <td>1</td>\n",
              "      <td>0</td>\n",
              "    </tr>\n",
              "    <tr>\n",
              "      <th>2</th>\n",
              "      <td>2</td>\n",
              "      <td>7</td>\n",
              "    </tr>\n",
              "    <tr>\n",
              "      <th>3</th>\n",
              "      <td>2</td>\n",
              "      <td>11</td>\n",
              "    </tr>\n",
              "    <tr>\n",
              "      <th>4</th>\n",
              "      <td>1</td>\n",
              "      <td>5</td>\n",
              "    </tr>\n",
              "    <tr>\n",
              "      <th>5</th>\n",
              "      <td>2</td>\n",
              "      <td>8</td>\n",
              "    </tr>\n",
              "    <tr>\n",
              "      <th>6</th>\n",
              "      <td>2</td>\n",
              "      <td>10</td>\n",
              "    </tr>\n",
              "    <tr>\n",
              "      <th>7</th>\n",
              "      <td>1</td>\n",
              "      <td>4</td>\n",
              "    </tr>\n",
              "  </tbody>\n",
              "</table>\n",
              "</div>"
            ],
            "text/plain": [
              "   A   B\n",
              "0  1   3\n",
              "1  1   0\n",
              "2  2   7\n",
              "3  2  11\n",
              "4  1   5\n",
              "5  2   8\n",
              "6  2  10\n",
              "7  1   4"
            ]
          },
          "metadata": {},
          "execution_count": 144
        }
      ]
    },
    {
      "cell_type": "code",
      "metadata": {
        "id": "stHjay0aIYC6"
      },
      "source": [
        "# stratifying and sampling dataset of 80,000 rows\n",
        "\n",
        "dataset_stratify = dataset_twitter.groupby('target', group_keys=False).apply(lambda x: x.sample(int(np.rint(80000*len(x)/len(dataset_twitter))))).sample(frac=1).reset_index(drop=True)"
      ],
      "execution_count": 145,
      "outputs": []
    },
    {
      "cell_type": "code",
      "metadata": {
        "colab": {
          "base_uri": "https://localhost:8080/"
        },
        "id": "wwZk_UBsIkRO",
        "outputId": "c1d9bc7a-65d0-468c-852c-288b17f1e13f"
      },
      "source": [
        "dataset_stratify['target'].value_counts()"
      ],
      "execution_count": 146,
      "outputs": [
        {
          "output_type": "execute_result",
          "data": {
            "text/plain": [
              "1    40000\n",
              "0    40000\n",
              "Name: target, dtype: int64"
            ]
          },
          "metadata": {},
          "execution_count": 146
        }
      ]
    },
    {
      "cell_type": "code",
      "metadata": {
        "colab": {
          "base_uri": "https://localhost:8080/"
        },
        "id": "zwfpl6FThyHy",
        "outputId": "dc18d0d7-4560-43b3-f986-13c8021962c3"
      },
      "source": [
        "# Checking Null values\n",
        "\n",
        "dataset_stratify.isnull().sum()"
      ],
      "execution_count": 147,
      "outputs": [
        {
          "output_type": "execute_result",
          "data": {
            "text/plain": [
              "target    0\n",
              "text      0\n",
              "dtype: int64"
            ]
          },
          "metadata": {},
          "execution_count": 147
        }
      ]
    },
    {
      "cell_type": "markdown",
      "metadata": {
        "id": "RAA2dIzkaoP4"
      },
      "source": [
        "**Preprocess the data**"
      ]
    },
    {
      "cell_type": "code",
      "metadata": {
        "id": "37psmiRvXTzh"
      },
      "source": [
        "# Preprocessing the data - claning the data of noise such as special characters, nametags\n",
        "\n",
        "import re\n",
        "def text_preprocessing(text):\n",
        "\n",
        "    # Remove '@name'\n",
        "    text = re.sub(r'(@.*?)[\\s]', ' ', text)\n",
        "\n",
        "    # Replace '&amp;' with '&'\n",
        "    text = re.sub(r'&amp;', '&', text)\n",
        "\n",
        "    # Remove trailing whitespace\n",
        "    text = re.sub(r'\\s+', ' ', text).strip()\n",
        "\n",
        "    # Remove '?'\n",
        "    text = re.sub(r'\\?', ' ', text).strip()\n",
        "\n",
        "    # Remove ','\n",
        "    text = re.sub(r'\\,', '', text).strip()\n",
        "\n",
        "    return text"
      ],
      "execution_count": 148,
      "outputs": []
    },
    {
      "cell_type": "code",
      "metadata": {
        "colab": {
          "base_uri": "https://localhost:8080/"
        },
        "id": "MKwDgLVDayvj",
        "outputId": "d4a2fc6d-0c21-459b-9c83-271c7ada8744"
      },
      "source": [
        "# testing the preprocessing function\n",
        "\n",
        "t = '@name, How you been?'\n",
        "print('Original: ', t)\n",
        "print('Processed: ', text_preprocessing(t))"
      ],
      "execution_count": 149,
      "outputs": [
        {
          "output_type": "stream",
          "name": "stdout",
          "text": [
            "Original:  @name, How you been?\n",
            "Processed:  How you been\n"
          ]
        }
      ]
    },
    {
      "cell_type": "code",
      "metadata": {
        "colab": {
          "base_uri": "https://localhost:8080/"
        },
        "id": "Gz5bgnOhXTxf",
        "outputId": "1bac0f53-55ac-4d68-896f-c79ab5e34e25"
      },
      "source": [
        "dataset_stratify['text']"
      ],
      "execution_count": 150,
      "outputs": [
        {
          "output_type": "execute_result",
          "data": {
            "text/plain": [
              "0                        @ishinee WANNA SEE ? I GOT GMAIL \n",
              "1        thanks haha sana.XD pressurized ka... wag! eas...\n",
              "2                                @underexpose  long GFJM09\n",
              "3        my BPI card got captured....  have no money na...\n",
              "4        Sitting here on the computer bored. Oh, and th...\n",
              "                               ...                        \n",
              "79995                                         on the road \n",
              "79996    @Mayerinated happy birthday! Hope you have a g...\n",
              "79997    Why do you always think me in that way?! I hat...\n",
              "79998    @simonmcconico well MGD, Lite or 64 all qualif...\n",
              "79999    @Wendym00n yeah i don't watch a lot of new mov...\n",
              "Name: text, Length: 80000, dtype: object"
            ]
          },
          "metadata": {},
          "execution_count": 150
        }
      ]
    },
    {
      "cell_type": "code",
      "metadata": {
        "id": "dJ4F4_YbXTvm"
      },
      "source": [
        "# preprocessing the dataset\n",
        "\n",
        "dataset_stratify['text'] = dataset_stratify['text'].apply(lambda x: text_preprocessing(x))"
      ],
      "execution_count": 151,
      "outputs": []
    },
    {
      "cell_type": "code",
      "metadata": {
        "colab": {
          "base_uri": "https://localhost:8080/"
        },
        "id": "9ohW42fuXTtg",
        "outputId": "ce36ac95-8c1c-4ac0-de70-96ef13855007"
      },
      "source": [
        "dataset_stratify['text']"
      ],
      "execution_count": 152,
      "outputs": [
        {
          "output_type": "execute_result",
          "data": {
            "text/plain": [
              "0                                  WANNA SEE   I GOT GMAIL\n",
              "1        thanks haha sana.XD pressurized ka... wag! eas...\n",
              "2                                              long GFJM09\n",
              "3        my BPI card got captured.... have no money na ...\n",
              "4        Sitting here on the computer bored. Oh and thi...\n",
              "                               ...                        \n",
              "79995                                          on the road\n",
              "79996           happy birthday! Hope you have a great day!\n",
              "79997    Why do you always think me in that way ! I hat...\n",
              "79998    well MGD Lite or 64 all qualify.. you can lime...\n",
              "79999    yeah i don't watch a lot of new movies. actual...\n",
              "Name: text, Length: 80000, dtype: object"
            ]
          },
          "metadata": {},
          "execution_count": 152
        }
      ]
    },
    {
      "cell_type": "markdown",
      "metadata": {
        "id": "JcSYHr2MA4CP"
      },
      "source": [
        "**Splitting Dataset**"
      ]
    },
    {
      "cell_type": "code",
      "metadata": {
        "id": "_b-S10D3dzoF"
      },
      "source": [
        "# sampling the data of 80,000 rows\n",
        "\n",
        "dataset_stratify = dataset_stratify.sample(n = 80000, random_state = SEED).reset_index(drop=True)"
      ],
      "execution_count": 153,
      "outputs": []
    },
    {
      "cell_type": "code",
      "metadata": {
        "colab": {
          "base_uri": "https://localhost:8080/",
          "height": 204
        },
        "id": "yvYH7FLDdzla",
        "outputId": "de7314f4-551c-4ade-f684-078999a90245"
      },
      "source": [
        "dataset_stratify.head()"
      ],
      "execution_count": 154,
      "outputs": [
        {
          "output_type": "execute_result",
          "data": {
            "text/html": [
              "<div>\n",
              "<style scoped>\n",
              "    .dataframe tbody tr th:only-of-type {\n",
              "        vertical-align: middle;\n",
              "    }\n",
              "\n",
              "    .dataframe tbody tr th {\n",
              "        vertical-align: top;\n",
              "    }\n",
              "\n",
              "    .dataframe thead th {\n",
              "        text-align: right;\n",
              "    }\n",
              "</style>\n",
              "<table border=\"1\" class=\"dataframe\">\n",
              "  <thead>\n",
              "    <tr style=\"text-align: right;\">\n",
              "      <th></th>\n",
              "      <th>target</th>\n",
              "      <th>text</th>\n",
              "    </tr>\n",
              "  </thead>\n",
              "  <tbody>\n",
              "    <tr>\n",
              "      <th>0</th>\n",
              "      <td>1</td>\n",
              "      <td>i've got a good feeling that YOU won</td>\n",
              "    </tr>\n",
              "    <tr>\n",
              "      <th>1</th>\n",
              "      <td>0</td>\n",
              "      <td>looking at pictures being mopey</td>\n",
              "    </tr>\n",
              "    <tr>\n",
              "      <th>2</th>\n",
              "      <td>1</td>\n",
              "      <td>about which part the disgusting fat lip or exc...</td>\n",
              "    </tr>\n",
              "    <tr>\n",
              "      <th>3</th>\n",
              "      <td>0</td>\n",
              "      <td>but i do still like her and want to see her in...</td>\n",
              "    </tr>\n",
              "    <tr>\n",
              "      <th>4</th>\n",
              "      <td>0</td>\n",
              "      <td>Looks like I'm gonna have to find Alvin a new ...</td>\n",
              "    </tr>\n",
              "  </tbody>\n",
              "</table>\n",
              "</div>"
            ],
            "text/plain": [
              "   target                                               text\n",
              "0       1               i've got a good feeling that YOU won\n",
              "1       0                    looking at pictures being mopey\n",
              "2       1  about which part the disgusting fat lip or exc...\n",
              "3       0  but i do still like her and want to see her in...\n",
              "4       0  Looks like I'm gonna have to find Alvin a new ..."
            ]
          },
          "metadata": {},
          "execution_count": 154
        }
      ]
    },
    {
      "cell_type": "code",
      "metadata": {
        "colab": {
          "base_uri": "https://localhost:8080/",
          "height": 282
        },
        "id": "LG831YxsB6A0",
        "outputId": "78405548-71db-4710-addf-adde7c3eb459"
      },
      "source": [
        "# get length of the words\n",
        "\n",
        "word_len = [len(i.split()) for i in dataset_stratify['text']]\n",
        "\n",
        "pd.Series(word_len).hist(bins = 30)"
      ],
      "execution_count": 155,
      "outputs": [
        {
          "output_type": "execute_result",
          "data": {
            "text/plain": [
              "<matplotlib.axes._subplots.AxesSubplot at 0x7fbbf6c17fd0>"
            ]
          },
          "metadata": {},
          "execution_count": 155
        },
        {
          "output_type": "display_data",
          "data": {
            "image/png": "[encoded data removed]",
            "text/plain": [
              "<Figure size 432x288 with 1 Axes>"
            ]
          },
          "metadata": {
            "needs_background": "light"
          }
        }
      ]
    },
    {
      "cell_type": "code",
      "metadata": {
        "colab": {
          "base_uri": "https://localhost:8080/"
        },
        "id": "mflVFiUJVXDk",
        "outputId": "89273b02-2868-4446-d1ca-a232e8abcef0"
      },
      "source": [
        "# finding maximum length of words to do padding\n",
        "\n",
        "max_word_len = max(word_len)\n",
        "max_word_len"
      ],
      "execution_count": 156,
      "outputs": [
        {
          "output_type": "execute_result",
          "data": {
            "text/plain": [
              "45"
            ]
          },
          "metadata": {},
          "execution_count": 156
        }
      ]
    },
    {
      "cell_type": "code",
      "metadata": {
        "id": "vAadyXPnAJHn"
      },
      "source": [
        "# splitting the sampled dataset into stratified train, validation, and test sets\n",
        "\n",
        "from pandas.core.common import random_state\n",
        "from sklearn.model_selection import train_test_split\n",
        "from sklearn.metrics import classification_report\n",
        "\n",
        "train, test = train_test_split(dataset_stratify, test_size=0.38, random_state=SEED, stratify = dataset_stratify.target)\n",
        "train, val = train_test_split(train, test_size=0.3,random_state=SEED, stratify = train.target)"
      ],
      "execution_count": 157,
      "outputs": []
    },
    {
      "cell_type": "code",
      "metadata": {
        "colab": {
          "base_uri": "https://localhost:8080/"
        },
        "id": "aPHL4CMWFjIS",
        "outputId": "57b14e9e-1811-40cc-dd0a-a597994f184b"
      },
      "source": [
        "train.value_counts('target')"
      ],
      "execution_count": 158,
      "outputs": [
        {
          "output_type": "execute_result",
          "data": {
            "text/plain": [
              "target\n",
              "1    17360\n",
              "0    17360\n",
              "dtype: int64"
            ]
          },
          "metadata": {},
          "execution_count": 158
        }
      ]
    },
    {
      "cell_type": "code",
      "metadata": {
        "colab": {
          "base_uri": "https://localhost:8080/"
        },
        "id": "S2EsW02xKf3D",
        "outputId": "20fa84a0-ad60-4464-b296-719bfe478af5"
      },
      "source": [
        "val.value_counts('target')"
      ],
      "execution_count": 159,
      "outputs": [
        {
          "output_type": "execute_result",
          "data": {
            "text/plain": [
              "target\n",
              "1    7440\n",
              "0    7440\n",
              "dtype: int64"
            ]
          },
          "metadata": {},
          "execution_count": 159
        }
      ]
    },
    {
      "cell_type": "code",
      "metadata": {
        "colab": {
          "base_uri": "https://localhost:8080/"
        },
        "id": "I1t4CMSZKiDX",
        "outputId": "cc2742ff-9e99-472c-bf04-c073eccafbd1"
      },
      "source": [
        "test.value_counts('target')"
      ],
      "execution_count": 160,
      "outputs": [
        {
          "output_type": "execute_result",
          "data": {
            "text/plain": [
              "target\n",
              "1    15200\n",
              "0    15200\n",
              "dtype: int64"
            ]
          },
          "metadata": {},
          "execution_count": 160
        }
      ]
    },
    {
      "cell_type": "code",
      "metadata": {
        "colab": {
          "base_uri": "https://localhost:8080/",
          "height": 204
        },
        "id": "HoTdgBB90xcA",
        "outputId": "d19d5b3d-027f-4b35-f779-d61514daf6b4"
      },
      "source": [
        "train.head()"
      ],
      "execution_count": 161,
      "outputs": [
        {
          "output_type": "execute_result",
          "data": {
            "text/html": [
              "<div>\n",
              "<style scoped>\n",
              "    .dataframe tbody tr th:only-of-type {\n",
              "        vertical-align: middle;\n",
              "    }\n",
              "\n",
              "    .dataframe tbody tr th {\n",
              "        vertical-align: top;\n",
              "    }\n",
              "\n",
              "    .dataframe thead th {\n",
              "        text-align: right;\n",
              "    }\n",
              "</style>\n",
              "<table border=\"1\" class=\"dataframe\">\n",
              "  <thead>\n",
              "    <tr style=\"text-align: right;\">\n",
              "      <th></th>\n",
              "      <th>target</th>\n",
              "      <th>text</th>\n",
              "    </tr>\n",
              "  </thead>\n",
              "  <tbody>\n",
              "    <tr>\n",
              "      <th>20683</th>\n",
              "      <td>1</td>\n",
              "      <td>the mary jane kind - they have mickey heads in...</td>\n",
              "    </tr>\n",
              "    <tr>\n",
              "      <th>57014</th>\n",
              "      <td>1</td>\n",
              "      <td>waking up to birds singing and raindrops' rhyt...</td>\n",
              "    </tr>\n",
              "    <tr>\n",
              "      <th>70935</th>\n",
              "      <td>1</td>\n",
              "      <td>idk!</td>\n",
              "    </tr>\n",
              "    <tr>\n",
              "      <th>37427</th>\n",
              "      <td>0</td>\n",
              "      <td>aww I'm sorry! That sucks.</td>\n",
              "    </tr>\n",
              "    <tr>\n",
              "      <th>29909</th>\n",
              "      <td>0</td>\n",
              "      <td>GRR!!! Looked at Cannon Cameras online for HOU...</td>\n",
              "    </tr>\n",
              "  </tbody>\n",
              "</table>\n",
              "</div>"
            ],
            "text/plain": [
              "       target                                               text\n",
              "20683       1  the mary jane kind - they have mickey heads in...\n",
              "57014       1  waking up to birds singing and raindrops' rhyt...\n",
              "70935       1                                               idk!\n",
              "37427       0                         aww I'm sorry! That sucks.\n",
              "29909       0  GRR!!! Looked at Cannon Cameras online for HOU..."
            ]
          },
          "metadata": {},
          "execution_count": 161
        }
      ]
    },
    {
      "cell_type": "markdown",
      "metadata": {
        "id": "ebTiwI3bVwIs"
      },
      "source": [
        "**BERT Tokenization**"
      ]
    },
    {
      "cell_type": "code",
      "metadata": {
        "colab": {
          "base_uri": "https://localhost:8080/"
        },
        "id": "G8bWrRbcW31V",
        "outputId": "b50dac7c-c54d-430b-df7b-3b37d6800fd7"
      },
      "source": [
        "# importing packages for tokenization\n",
        "\n",
        "!pip install transformers\n",
        "import transformers\n",
        "from transformers import AutoModel, BertTokenizerFast"
      ],
      "execution_count": 162,
      "outputs": [
        {
          "output_type": "stream",
          "name": "stdout",
          "text": [
            "Requirement already satisfied: transformers in /usr/local/lib/python3.7/dist-packages (4.10.0)\n",
            "Requirement already satisfied: regex!=2019.12.17 in /usr/local/lib/python3.7/dist-packages (from transformers) (2019.12.20)\n",
            "Requirement already satisfied: sacremoses in /usr/local/lib/python3.7/dist-packages (from transformers) (0.0.45)\n",
            "Requirement already satisfied: tokenizers<0.11,>=0.10.1 in /usr/local/lib/python3.7/dist-packages (from transformers) (0.10.3)\n",
            "Requirement already satisfied: numpy>=1.17 in /usr/local/lib/python3.7/dist-packages (from transformers) (1.19.5)\n",
            "Requirement already satisfied: tqdm>=4.27 in /usr/local/lib/python3.7/dist-packages (from transformers) (4.62.0)\n",
            "Requirement already satisfied: filelock in /usr/local/lib/python3.7/dist-packages (from transformers) (3.0.12)\n",
            "Requirement already satisfied: requests in /usr/local/lib/python3.7/dist-packages (from transformers) (2.23.0)\n",
            "Requirement already satisfied: packaging in /usr/local/lib/python3.7/dist-packages (from transformers) (21.0)\n",
            "Requirement already satisfied: huggingface-hub>=0.0.12 in /usr/local/lib/python3.7/dist-packages (from transformers) (0.0.16)\n",
            "Requirement already satisfied: pyyaml>=5.1 in /usr/local/lib/python3.7/dist-packages (from transformers) (5.4.1)\n",
            "Requirement already satisfied: importlib-metadata in /usr/local/lib/python3.7/dist-packages (from transformers) (4.6.4)\n",
            "Requirement already satisfied: typing-extensions in /usr/local/lib/python3.7/dist-packages (from huggingface-hub>=0.0.12->transformers) (3.7.4.3)\n",
            "Requirement already satisfied: pyparsing>=2.0.2 in /usr/local/lib/python3.7/dist-packages (from packaging->transformers) (2.4.7)\n",
            "Requirement already satisfied: zipp>=0.5 in /usr/local/lib/python3.7/dist-packages (from importlib-metadata->transformers) (3.5.0)\n",
            "Requirement already satisfied: chardet<4,>=3.0.2 in /usr/local/lib/python3.7/dist-packages (from requests->transformers) (3.0.4)\n",
            "Requirement already satisfied: urllib3!=1.25.0,!=1.25.1,<1.26,>=1.21.1 in /usr/local/lib/python3.7/dist-packages (from requests->transformers) (1.24.3)\n",
            "Requirement already satisfied: idna<3,>=2.5 in /usr/local/lib/python3.7/dist-packages (from requests->transformers) (2.10)\n",
            "Requirement already satisfied: certifi>=2017.4.17 in /usr/local/lib/python3.7/dist-packages (from requests->transformers) (2021.5.30)\n",
            "Requirement already satisfied: joblib in /usr/local/lib/python3.7/dist-packages (from sacremoses->transformers) (1.0.1)\n",
            "Requirement already satisfied: click in /usr/local/lib/python3.7/dist-packages (from sacremoses->transformers) (7.1.2)\n",
            "Requirement already satisfied: six in /usr/local/lib/python3.7/dist-packages (from sacremoses->transformers) (1.15.0)\n"
          ]
        }
      ]
    },
    {
      "cell_type": "code",
      "metadata": {
        "id": "PN8h_ktlej_a"
      },
      "source": [
        "# splitting train, validation and test sets into respective text and target sets\n",
        "\n",
        "temp_text, test_text, temp_targets, test_targets = train_test_split(dataset_stratify['text'], dataset_stratify['target'], \n",
        "                                                                    random_state=2018, \n",
        "                                                                    test_size=0.36, \n",
        "                                                                    stratify=dataset_stratify['target'])\n",
        "\n",
        "# we will use temp_text and temp_targets to create train and validation set\n",
        "train_text, val_text, train_targets, val_targets = train_test_split(temp_text, temp_targets, \n",
        "                                                                random_state=2018, \n",
        "                                                                test_size=0.5, \n",
        "                                                                stratify=temp_targets)"
      ],
      "execution_count": 163,
      "outputs": []
    },
    {
      "cell_type": "code",
      "metadata": {
        "colab": {
          "base_uri": "https://localhost:8080/"
        },
        "id": "TAOTzjDPNany",
        "outputId": "40bdb058-6121-4ce8-c100-6f27577b21e9"
      },
      "source": [
        "val_targets.value_counts('target')"
      ],
      "execution_count": 164,
      "outputs": [
        {
          "output_type": "execute_result",
          "data": {
            "text/plain": [
              "1    0.5\n",
              "0    0.5\n",
              "Name: target, dtype: float64"
            ]
          },
          "metadata": {},
          "execution_count": 164
        }
      ]
    },
    {
      "cell_type": "code",
      "metadata": {
        "colab": {
          "base_uri": "https://localhost:8080/"
        },
        "id": "ZOURsP0sNakb",
        "outputId": "59d8242b-97f8-4539-9c51-1fbc933d44dc"
      },
      "source": [
        "# import BERT-base pretrained model\n",
        "\n",
        "bert = AutoModel.from_pretrained('bert-base-uncased')\n",
        "\n",
        "# Load the BERT tokenizer\n",
        "\n",
        "tokenizer = BertTokenizerFast.from_pretrained('bert-base-uncased')"
      ],
      "execution_count": 165,
      "outputs": [
        {
          "output_type": "stream",
          "name": "stderr",
          "text": [
            "Some weights of the model checkpoint at bert-base-uncased were not used when initializing BertModel: ['cls.predictions.transform.LayerNorm.bias', 'cls.predictions.transform.dense.weight', 'cls.predictions.transform.dense.bias', 'cls.seq_relationship.bias', 'cls.predictions.decoder.weight', 'cls.seq_relationship.weight', 'cls.predictions.bias', 'cls.predictions.transform.LayerNorm.weight']\n",
            "- This IS expected if you are initializing BertModel from the checkpoint of a model trained on another task or with another architecture (e.g. initializing a BertForSequenceClassification model from a BertForPreTraining model).\n",
            "- This IS NOT expected if you are initializing BertModel from the checkpoint of a model that you expect to be exactly identical (initializing a BertForSequenceClassification model from a BertForSequenceClassification model).\n"
          ]
        }
      ]
    },
    {
      "cell_type": "code",
      "metadata": {
        "colab": {
          "base_uri": "https://localhost:8080/"
        },
        "id": "uw5oFuOwNaiM",
        "outputId": "f93730cc-803b-4faa-eac9-d11a393c89f1"
      },
      "source": [
        "# testing tokenizer with sample data\n",
        "\n",
        "text = [\"this is a bert model tutorial\", \"we will fine-tune a bert model\"]\n",
        "\n",
        "sent_id_ex = tokenizer.batch_encode_plus(text, padding=True, return_token_type_ids=False)\n",
        "sent_id_ex"
      ],
      "execution_count": 166,
      "outputs": [
        {
          "output_type": "execute_result",
          "data": {
            "text/plain": [
              "{'input_ids': [[101, 2023, 2003, 1037, 14324, 2944, 14924, 4818, 102, 0], [101, 2057, 2097, 2986, 1011, 8694, 1037, 14324, 2944, 102]], 'attention_mask': [[1, 1, 1, 1, 1, 1, 1, 1, 1, 0], [1, 1, 1, 1, 1, 1, 1, 1, 1, 1]]}"
            ]
          },
          "metadata": {},
          "execution_count": 166
        }
      ]
    },
    {
      "cell_type": "code",
      "metadata": {
        "colab": {
          "base_uri": "https://localhost:8080/"
        },
        "id": "yXDQ9LEAUqLT",
        "outputId": "e53bc1ff-bdf4-4a03-9995-e142016c5b01"
      },
      "source": [
        "train_text"
      ],
      "execution_count": 167,
      "outputs": [
        {
          "output_type": "execute_result",
          "data": {
            "text/plain": [
              "6547             Thanks for the feedback Much appreciated.\n",
              "25253    Sad times at the minute! my grandad is terminl...\n",
              "64096    i can't wait! &quot;Look At My Twitter&quot; w...\n",
              "35072    lilivonshtupp Nachos are not in my diet might ...\n",
              "73739    Ha! Ok you can only come up with one because I...\n",
              "                               ...                        \n",
              "44689     Just never be sad  becuse no bady cry for you ..\n",
              "72414         Drinking Orange juice which tastes like shit\n",
              "32995    and so another week begins. this one has got t...\n",
              "78532    Get 100 followers a day using www.tweeterfollo...\n",
              "10046    wow that must hurt a lot! Your whole back is b...\n",
              "Name: text, Length: 25600, dtype: object"
            ]
          },
          "metadata": {},
          "execution_count": 167
        }
      ]
    },
    {
      "cell_type": "code",
      "metadata": {
        "colab": {
          "base_uri": "https://localhost:8080/"
        },
        "id": "aLGx5lZ-Nagb",
        "outputId": "bee428c1-3564-40fd-f9ee-07a5326648a3"
      },
      "source": [
        "# tokenize and encode sequences in the training set\n",
        "\n",
        "tokens_train = tokenizer.batch_encode_plus(\n",
        "    train_text.tolist(),\n",
        "    max_length = max_word_len,\n",
        "    pad_to_max_length=True,\n",
        "    truncation=True,\n",
        "    return_token_type_ids=False\n",
        ")\n",
        "\n",
        "# tokenize and encode sequences in the validation set\n",
        "\n",
        "tokens_val = tokenizer.batch_encode_plus(\n",
        "    val_text.tolist(),\n",
        "    max_length = max_word_len,\n",
        "    pad_to_max_length=True,\n",
        "    truncation=True,\n",
        "    return_token_type_ids=False\n",
        ")\n",
        "\n",
        "# tokenize and encode sequences in the test set\n",
        "\n",
        "tokens_test = tokenizer.batch_encode_plus(\n",
        "    test_text.tolist(),\n",
        "    max_length = max_word_len,\n",
        "    pad_to_max_length=True,\n",
        "    truncation=True,\n",
        "    return_token_type_ids=False\n",
        ")"
      ],
      "execution_count": 168,
      "outputs": [
        {
          "output_type": "stream",
          "name": "stderr",
          "text": [
            "/usr/local/lib/python3.7/dist-packages/transformers/tokenization_utils_base.py:2204: FutureWarning: The `pad_to_max_length` argument is deprecated and will be removed in a future version, use `padding=True` or `padding='longest'` to pad to the longest sequence in the batch, or use `padding='max_length'` to pad to a max length. In this case, you can give a specific length with `max_length` (e.g. `max_length=45`) or leave max_length to None to pad to the maximal input size of the model (e.g. 512 for Bert).\n",
            "  FutureWarning,\n"
          ]
        }
      ]
    },
    {
      "cell_type": "markdown",
      "metadata": {
        "id": "38840CsrV5Z3"
      },
      "source": [
        "**Convert Integer Sequences to Tensors**"
      ]
    },
    {
      "cell_type": "code",
      "metadata": {
        "id": "vHyKGGU7NaeR"
      },
      "source": [
        "# inputs and attention masks for train set\n",
        "\n",
        "train_seq = torch.tensor(tokens_train['input_ids'])\n",
        "train_mask = torch.tensor(tokens_train['attention_mask'])\n",
        "train_y = torch.tensor(train_targets.tolist())\n",
        "\n",
        "# inputs and attention masks for validation set\n",
        "\n",
        "val_seq = torch.tensor(tokens_val['input_ids'])\n",
        "val_mask = torch.tensor(tokens_val['attention_mask'])\n",
        "val_y = torch.tensor(val_targets.tolist())\n",
        "\n",
        "# inputs and attention masks for test set\n",
        "\n",
        "test_seq = torch.tensor(tokens_test['input_ids'])\n",
        "test_mask = torch.tensor(tokens_test['attention_mask'])\n",
        "test_y = torch.tensor(test_targets.tolist())"
      ],
      "execution_count": 169,
      "outputs": []
    },
    {
      "cell_type": "markdown",
      "metadata": {
        "id": "syrMG7liV9jx"
      },
      "source": [
        "**Create DataLoaders**"
      ]
    },
    {
      "cell_type": "code",
      "metadata": {
        "id": "UEq-RYbRVkKJ"
      },
      "source": [
        "from torch.utils.data import TensorDataset, DataLoader, RandomSampler, SequentialSampler\n",
        "\n",
        "# define a batch size\n",
        "\n",
        "batch_size = 32\n",
        "\n",
        "# tensor for train set\n",
        "\n",
        "train_data = TensorDataset(train_seq, train_mask, train_y)\n",
        "\n",
        "# sampler for sampling the data during training\n",
        "\n",
        "train_sampler = RandomSampler(train_data)\n",
        "\n",
        "# dataLoader for train set\n",
        "\n",
        "train_dataloader = DataLoader(train_data, sampler=train_sampler, batch_size=batch_size)\n",
        "\n",
        "# tensor for validation set\n",
        "\n",
        "val_data = TensorDataset(val_seq, val_mask, val_y)\n",
        "\n",
        "# sampler for sampling the data during training\n",
        "\n",
        "val_sampler = SequentialSampler(val_data)\n",
        "\n",
        "# dataLoader for validation set\n",
        "\n",
        "val_dataloader = DataLoader(val_data, sampler = val_sampler, batch_size=batch_size)"
      ],
      "execution_count": 170,
      "outputs": []
    },
    {
      "cell_type": "markdown",
      "metadata": {
        "id": "qf0ydphkWCG_"
      },
      "source": [
        "**Freeze BERT Parameters**"
      ]
    },
    {
      "cell_type": "code",
      "metadata": {
        "id": "3jg4JZxhVkGN"
      },
      "source": [
        "# freeze all the BERT parameters\n",
        "\n",
        "for param in bert.parameters():\n",
        "    param.requires_grad = False"
      ],
      "execution_count": 171,
      "outputs": []
    },
    {
      "cell_type": "markdown",
      "metadata": {
        "id": "upj7iV2iWGGq"
      },
      "source": [
        "\n",
        "**Define Model Architecture**"
      ]
    },
    {
      "cell_type": "code",
      "metadata": {
        "id": "qst-bFkCVkDt"
      },
      "source": [
        "class BERT_Arch(nn.Module):\n",
        "\n",
        "    def __init__(self, bert):\n",
        "      \n",
        "      super(BERT_Arch, self).__init__()\n",
        "      self.bert = bert \n",
        "      D_in, H, O, D_out = 768, 512, 128, 2\n",
        "\n",
        "      self.classifier = nn.Sequential(\n",
        "            nn.Linear(D_in, H),\n",
        "            nn.ReLU(),\n",
        "            nn.Linear(H, O),\n",
        "            nn.Sigmoid(),\n",
        "            nn.Linear(O, D_out),\n",
        "            nn.LogSoftmax(dim=1)\n",
        "        )\n",
        "\n",
        "\n",
        "    def forward(self, sent_id, mask):\n",
        "\n",
        "      cls_hs = self.bert(sent_id, attention_mask=mask)\n",
        "      x = self.classifier(cls_hs[0][:,0,:])\n",
        "\n",
        "      return x"
      ],
      "execution_count": 206,
      "outputs": []
    },
    {
      "cell_type": "code",
      "metadata": {
        "id": "uCuQm8wJVkBP"
      },
      "source": [
        "# passing the pre-trained BERT to define architecture\n",
        "\n",
        "model = BERT_Arch(bert)\n",
        "\n",
        "model = model.to(device)"
      ],
      "execution_count": 207,
      "outputs": []
    },
    {
      "cell_type": "code",
      "metadata": {
        "id": "HVMoJAfzNacG"
      },
      "source": [
        "# optimizer\n",
        "\n",
        "from transformers import AdamW\n",
        "\n",
        "optimizer = AdamW(model.parameters(), lr = 3e-4)"
      ],
      "execution_count": 208,
      "outputs": []
    },
    {
      "cell_type": "markdown",
      "metadata": {
        "id": "HstZ0hT8XjaY"
      },
      "source": [
        "**Find Class Weights**"
      ]
    },
    {
      "cell_type": "code",
      "metadata": {
        "id": "PY6tSYNFNaaD",
        "colab": {
          "base_uri": "https://localhost:8080/"
        },
        "outputId": "d66419e3-0831-41b4-b912-3231ab1619b6"
      },
      "source": [
        "from sklearn.utils.class_weight import compute_class_weight\n",
        "\n",
        "class_wts = compute_class_weight('balanced', np.unique(train_targets), train_targets)\n",
        "print(class_wts)"
      ],
      "execution_count": 209,
      "outputs": [
        {
          "output_type": "stream",
          "name": "stdout",
          "text": [
            "[1. 1.]\n"
          ]
        }
      ]
    },
    {
      "cell_type": "code",
      "metadata": {
        "id": "z_hpEOvKNaX3"
      },
      "source": [
        "# converting class weights to tensor\n",
        "\n",
        "weights= torch.tensor(class_wts,dtype=torch.float)\n",
        "weights = weights.to(device)\n",
        "\n",
        "# loss function\n",
        "\n",
        "cross_entropy  = nn.NLLLoss(weight=weights) \n",
        "\n",
        "# number of training epochs\n",
        "\n",
        "epochs = 5"
      ],
      "execution_count": 210,
      "outputs": []
    },
    {
      "cell_type": "markdown",
      "metadata": {
        "id": "RSeKHOGPYsTf"
      },
      "source": [
        "**Fine-Tune BERT**"
      ]
    },
    {
      "cell_type": "code",
      "metadata": {
        "id": "XyLRVEk_NaV4"
      },
      "source": [
        "# function to train the model\n",
        "def train():\n",
        "  \n",
        "  model.train()\n",
        "\n",
        "  total_loss, total_accuracy = 0, 0\n",
        "  total_preds=[]\n",
        "  train_accuracy = []\n",
        "\n",
        "  for step,batch in enumerate(train_dataloader):\n",
        "    \n",
        "    if step % 50 == 0 and not step == 0:\n",
        "      print('  Batch {:>5,}  of  {:>5,}.'.format(step, len(train_dataloader)))\n",
        "\n",
        "    sent_id, mask, targets = tuple(r.to(device) for r in batch)\n",
        "    model.zero_grad()        \n",
        "    preds = model(sent_id, mask)\n",
        "    logits = torch.argmax(preds, dim=1).flatten()\n",
        "    accuracy = (logits == targets).cpu().numpy().mean() * 100\n",
        "    train_accuracy.append(accuracy)\n",
        "    loss = cross_entropy(preds, targets)\n",
        "    total_loss = total_loss + loss.item()\n",
        "    loss.backward()\n",
        "    torch.nn.utils.clip_grad_norm_(model.parameters(), 1.0)\n",
        "    optimizer.step()\n",
        "    preds=preds.detach().cpu().numpy()\n",
        "    total_preds.append(preds)\n",
        "\n",
        "  avg_loss = total_loss / len(train_dataloader)\n",
        "  total_preds  = np.concatenate(total_preds, axis=0)\n",
        "  train_accuracy = np.mean(train_accuracy)\n",
        "\n",
        "  return avg_loss, total_preds, train_accuracy"
      ],
      "execution_count": 211,
      "outputs": []
    },
    {
      "cell_type": "code",
      "metadata": {
        "id": "xl9v4z2bNaTb"
      },
      "source": [
        "import random\n",
        "import time\n",
        "\n",
        "# function for evaluating the model\n",
        "\n",
        "def evaluate():\n",
        "  \n",
        "  print(\"\\nEvaluating...\")\n",
        "  \n",
        "  model.eval()\n",
        "\n",
        "  total_loss, total_accuracy= 0, 0\n",
        "  total_preds = []\n",
        "  val_accuracy = []\n",
        "\n",
        "  for step,batch in enumerate(val_dataloader):\n",
        "    \n",
        "    if step % 50 == 0 and not step == 0:\n",
        "      print('  Batch {:>5,}  of  {:>5,}.'.format(step, len(val_dataloader)))\n",
        "\n",
        "    sent_id, mask, targets = tuple(t.to(device) for t in batch)\n",
        "\n",
        "    with torch.no_grad():\n",
        "      preds = model(sent_id, mask)\n",
        "      logits = torch.argmax(preds, dim=1).flatten()\n",
        "      accuracy = (logits == targets).cpu().numpy().mean() * 100\n",
        "      val_accuracy.append(accuracy)\n",
        "      loss = cross_entropy(preds,targets)\n",
        "      total_loss = total_loss + loss.item()\n",
        "      preds = preds.detach().cpu().numpy()\n",
        "      total_preds.append(preds)\n",
        "\n",
        "  avg_loss = total_loss / len(val_dataloader) \n",
        "  total_preds  = np.concatenate(total_preds, axis=0)\n",
        "  val_accuracy = np.mean(val_accuracy)\n",
        "\n",
        "  return avg_loss, total_preds, val_accuracy"
      ],
      "execution_count": 212,
      "outputs": []
    },
    {
      "cell_type": "markdown",
      "metadata": {
        "id": "hSq9a_ZbY9No"
      },
      "source": [
        "**Start Model Training**"
      ]
    },
    {
      "cell_type": "code",
      "metadata": {
        "colab": {
          "base_uri": "https://localhost:8080/"
        },
        "id": "cWKSciTiNaRk",
        "outputId": "0fdeaeea-f19a-4354-b035-eb7255fcffa2"
      },
      "source": [
        "best_valid_loss = float('inf')\n",
        "\n",
        "train_losses=[]\n",
        "val_losses=[]\n",
        "\n",
        "for epoch in range(epochs):\n",
        "     \n",
        "    train_accuracy = []\n",
        "    val_accuracy = []\n",
        "    print('\\n Epoch {:} / {:}'.format(epoch + 1, epochs))\n",
        "    train_loss, preds, train_acc = train()\n",
        "    val_loss, preds, val_acc = evaluate()\n",
        "    \n",
        "    if val_loss < best_valid_loss:\n",
        "        best_valid_loss = val_loss\n",
        "        torch.save(model.state_dict(), 'saved_weights.pt')\n",
        "    \n",
        "    train_losses.append(train_loss)\n",
        "    val_losses.append(val_loss)\n",
        "    train_accuracy.append(train_acc)\n",
        "    val_accuracy.append(val_acc)\n",
        "    \n",
        "    train_accuracy = np.mean(train_accuracy)\n",
        "    val_accuracy = np.mean(val_accuracy)\n",
        "\n",
        "    print(f'\\n Epoch: {epoch: 1f}')\n",
        "    print(f'\\nTraining Loss: {train_loss:.3f}', \"   ||    \", f'Training Accuracy: {train_accuracy:.3f}')\n",
        "    print(f'\\nValidation Loss: {val_loss:.3f}', \"   ||    \", f'Validation Accuracy: {val_accuracy:.3f}')"
      ],
      "execution_count": 213,
      "outputs": [
        {
          "output_type": "stream",
          "name": "stdout",
          "text": [
            "\n",
            " Epoch 1 / 5\n",
            "  Batch    50  of    800.\n",
            "  Batch   100  of    800.\n",
            "  Batch   150  of    800.\n",
            "  Batch   200  of    800.\n",
            "  Batch   250  of    800.\n",
            "  Batch   300  of    800.\n",
            "  Batch   350  of    800.\n",
            "  Batch   400  of    800.\n",
            "  Batch   450  of    800.\n",
            "  Batch   500  of    800.\n",
            "  Batch   550  of    800.\n",
            "  Batch   600  of    800.\n",
            "  Batch   650  of    800.\n",
            "  Batch   700  of    800.\n",
            "  Batch   750  of    800.\n",
            "\n",
            "Evaluating...\n",
            "  Batch    50  of    800.\n",
            "  Batch   100  of    800.\n",
            "  Batch   150  of    800.\n",
            "  Batch   200  of    800.\n",
            "  Batch   250  of    800.\n",
            "  Batch   300  of    800.\n",
            "  Batch   350  of    800.\n",
            "  Batch   400  of    800.\n",
            "  Batch   450  of    800.\n",
            "  Batch   500  of    800.\n",
            "  Batch   550  of    800.\n",
            "  Batch   600  of    800.\n",
            "  Batch   650  of    800.\n",
            "  Batch   700  of    800.\n",
            "  Batch   750  of    800.\n",
            "\n",
            " Epoch:  0.000000\n",
            "\n",
            "Training Loss: 0.525    ||     Training Accuracy: 73.828\n",
            "\n",
            "Validation Loss: 0.496    ||     Validation Accuracy: 75.957\n",
            "\n",
            " Epoch 2 / 5\n",
            "  Batch    50  of    800.\n",
            "  Batch   100  of    800.\n",
            "  Batch   150  of    800.\n",
            "  Batch   200  of    800.\n",
            "  Batch   250  of    800.\n",
            "  Batch   300  of    800.\n",
            "  Batch   350  of    800.\n",
            "  Batch   400  of    800.\n",
            "  Batch   450  of    800.\n",
            "  Batch   500  of    800.\n",
            "  Batch   550  of    800.\n",
            "  Batch   600  of    800.\n",
            "  Batch   650  of    800.\n",
            "  Batch   700  of    800.\n",
            "  Batch   750  of    800.\n",
            "\n",
            "Evaluating...\n",
            "  Batch    50  of    800.\n",
            "  Batch   100  of    800.\n",
            "  Batch   150  of    800.\n",
            "  Batch   200  of    800.\n",
            "  Batch   250  of    800.\n",
            "  Batch   300  of    800.\n",
            "  Batch   350  of    800.\n",
            "  Batch   400  of    800.\n",
            "  Batch   450  of    800.\n",
            "  Batch   500  of    800.\n",
            "  Batch   550  of    800.\n",
            "  Batch   600  of    800.\n",
            "  Batch   650  of    800.\n",
            "  Batch   700  of    800.\n",
            "  Batch   750  of    800.\n",
            "\n",
            " Epoch:  1.000000\n",
            "\n",
            "Training Loss: 0.492    ||     Training Accuracy: 76.230\n",
            "\n",
            "Validation Loss: 0.468    ||     Validation Accuracy: 77.910\n",
            "\n",
            " Epoch 3 / 5\n",
            "  Batch    50  of    800.\n",
            "  Batch   100  of    800.\n",
            "  Batch   150  of    800.\n",
            "  Batch   200  of    800.\n",
            "  Batch   250  of    800.\n",
            "  Batch   300  of    800.\n",
            "  Batch   350  of    800.\n",
            "  Batch   400  of    800.\n",
            "  Batch   450  of    800.\n",
            "  Batch   500  of    800.\n",
            "  Batch   550  of    800.\n",
            "  Batch   600  of    800.\n",
            "  Batch   650  of    800.\n",
            "  Batch   700  of    800.\n",
            "  Batch   750  of    800.\n",
            "\n",
            "Evaluating...\n",
            "  Batch    50  of    800.\n",
            "  Batch   100  of    800.\n",
            "  Batch   150  of    800.\n",
            "  Batch   200  of    800.\n",
            "  Batch   250  of    800.\n",
            "  Batch   300  of    800.\n",
            "  Batch   350  of    800.\n",
            "  Batch   400  of    800.\n",
            "  Batch   450  of    800.\n",
            "  Batch   500  of    800.\n",
            "  Batch   550  of    800.\n",
            "  Batch   600  of    800.\n",
            "  Batch   650  of    800.\n",
            "  Batch   700  of    800.\n",
            "  Batch   750  of    800.\n",
            "\n",
            " Epoch:  2.000000\n",
            "\n",
            "Training Loss: 0.485    ||     Training Accuracy: 76.480\n",
            "\n",
            "Validation Loss: 0.466    ||     Validation Accuracy: 77.938\n",
            "\n",
            " Epoch 4 / 5\n",
            "  Batch    50  of    800.\n",
            "  Batch   100  of    800.\n",
            "  Batch   150  of    800.\n",
            "  Batch   200  of    800.\n",
            "  Batch   250  of    800.\n",
            "  Batch   300  of    800.\n",
            "  Batch   350  of    800.\n",
            "  Batch   400  of    800.\n",
            "  Batch   450  of    800.\n",
            "  Batch   500  of    800.\n",
            "  Batch   550  of    800.\n",
            "  Batch   600  of    800.\n",
            "  Batch   650  of    800.\n",
            "  Batch   700  of    800.\n",
            "  Batch   750  of    800.\n",
            "\n",
            "Evaluating...\n",
            "  Batch    50  of    800.\n",
            "  Batch   100  of    800.\n",
            "  Batch   150  of    800.\n",
            "  Batch   200  of    800.\n",
            "  Batch   250  of    800.\n",
            "  Batch   300  of    800.\n",
            "  Batch   350  of    800.\n",
            "  Batch   400  of    800.\n",
            "  Batch   450  of    800.\n",
            "  Batch   500  of    800.\n",
            "  Batch   550  of    800.\n",
            "  Batch   600  of    800.\n",
            "  Batch   650  of    800.\n",
            "  Batch   700  of    800.\n",
            "  Batch   750  of    800.\n",
            "\n",
            " Epoch:  3.000000\n",
            "\n",
            "Training Loss: 0.479    ||     Training Accuracy: 76.895\n",
            "\n",
            "Validation Loss: 0.464    ||     Validation Accuracy: 78.109\n",
            "\n",
            " Epoch 5 / 5\n",
            "  Batch    50  of    800.\n",
            "  Batch   100  of    800.\n",
            "  Batch   150  of    800.\n",
            "  Batch   200  of    800.\n",
            "  Batch   250  of    800.\n",
            "  Batch   300  of    800.\n",
            "  Batch   350  of    800.\n",
            "  Batch   400  of    800.\n",
            "  Batch   450  of    800.\n",
            "  Batch   500  of    800.\n",
            "  Batch   550  of    800.\n",
            "  Batch   600  of    800.\n",
            "  Batch   650  of    800.\n",
            "  Batch   700  of    800.\n",
            "  Batch   750  of    800.\n",
            "\n",
            "Evaluating...\n",
            "  Batch    50  of    800.\n",
            "  Batch   100  of    800.\n",
            "  Batch   150  of    800.\n",
            "  Batch   200  of    800.\n",
            "  Batch   250  of    800.\n",
            "  Batch   300  of    800.\n",
            "  Batch   350  of    800.\n",
            "  Batch   400  of    800.\n",
            "  Batch   450  of    800.\n",
            "  Batch   500  of    800.\n",
            "  Batch   550  of    800.\n",
            "  Batch   600  of    800.\n",
            "  Batch   650  of    800.\n",
            "  Batch   700  of    800.\n",
            "  Batch   750  of    800.\n",
            "\n",
            " Epoch:  4.000000\n",
            "\n",
            "Training Loss: 0.473    ||     Training Accuracy: 77.277\n",
            "\n",
            "Validation Loss: 0.458    ||     Validation Accuracy: 78.324\n"
          ]
        }
      ]
    },
    {
      "cell_type": "markdown",
      "metadata": {
        "id": "GZY1fGhmTB9v"
      },
      "source": [
        "**Load Saved Model**"
      ]
    },
    {
      "cell_type": "code",
      "metadata": {
        "id": "Q2qQuvYXNaPm",
        "colab": {
          "base_uri": "https://localhost:8080/"
        },
        "outputId": "7c51a3f2-8e43-42bd-9793-7099fcc4ea49"
      },
      "source": [
        "path = 'saved_weights.pt'\n",
        "model.load_state_dict(torch.load(path))"
      ],
      "execution_count": 214,
      "outputs": [
        {
          "output_type": "execute_result",
          "data": {
            "text/plain": [
              "<All keys matched successfully>"
            ]
          },
          "metadata": {},
          "execution_count": 214
        }
      ]
    },
    {
      "cell_type": "markdown",
      "metadata": {
        "id": "KeKuScR9TIRC"
      },
      "source": [
        "**Get Predictions for Test Data**"
      ]
    },
    {
      "cell_type": "code",
      "metadata": {
        "id": "A8SMQXuWej3c",
        "colab": {
          "base_uri": "https://localhost:8080/"
        },
        "outputId": "504e8024-04a4-4e23-e8d7-8ae47e0d7b20"
      },
      "source": [
        "test_text.sample(5)"
      ],
      "execution_count": 215,
      "outputs": [
        {
          "output_type": "execute_result",
          "data": {
            "text/plain": [
              "26273    I can't wait to welcome Mana to our ohana! OOO...\n",
              "54037    dang it...looks like I have to work this weeke...\n",
              "63912    I love you wifey Kimmie & Nye for tonight's ad...\n",
              "9772                              very sorry to hear that.\n",
              "38596    its GROSS we had two frogs in there the other ...\n",
              "Name: text, dtype: object"
            ]
          },
          "metadata": {},
          "execution_count": 215
        }
      ]
    },
    {
      "cell_type": "code",
      "metadata": {
        "id": "LpurpL2mej0T",
        "colab": {
          "base_uri": "https://localhost:8080/"
        },
        "outputId": "f0557e99-37c8-499b-d21e-db10f61a575f"
      },
      "source": [
        "test_targets.sample(5)"
      ],
      "execution_count": 216,
      "outputs": [
        {
          "output_type": "execute_result",
          "data": {
            "text/plain": [
              "77838    1\n",
              "40233    0\n",
              "17098    1\n",
              "63704    0\n",
              "55638    1\n",
              "Name: target, dtype: int64"
            ]
          },
          "metadata": {},
          "execution_count": 216
        }
      ]
    },
    {
      "cell_type": "code",
      "metadata": {
        "id": "_U0PhBQ5fAKB"
      },
      "source": [
        "# Create the DataLoader for test set\n",
        "\n",
        "test_dataset = TensorDataset(test_seq, test_mask)\n",
        "test_sampler = SequentialSampler(test_dataset)\n",
        "test_dataloader = DataLoader(test_dataset, sampler=test_sampler, batch_size=32)"
      ],
      "execution_count": 217,
      "outputs": []
    },
    {
      "cell_type": "markdown",
      "metadata": {
        "id": "5pf0oASL2ShZ"
      },
      "source": [
        "**Prediction on Test Set**"
      ]
    },
    {
      "cell_type": "code",
      "metadata": {
        "id": "keJuwHF83DWF"
      },
      "source": [
        "import torch.nn.functional as F\n",
        "\n",
        "def bert_predict(model, test_dataloader):\n",
        "\n",
        "    model.eval()\n",
        "\n",
        "    all_logits = []\n",
        "    for batch in test_dataloader:\n",
        "        b_input_ids, b_attn_mask = tuple(t.to(device) for t in batch)[:2]\n",
        "        with torch.no_grad():\n",
        "            logits = model(b_input_ids, b_attn_mask)\n",
        "        all_logits.append(logits)\n",
        "    \n",
        "    all_logits = torch.cat(all_logits, dim=0)\n",
        "    probs = F.softmax(all_logits, dim=1).cpu().numpy()\n",
        "\n",
        "    return probs"
      ],
      "execution_count": 218,
      "outputs": []
    },
    {
      "cell_type": "code",
      "metadata": {
        "id": "DD4AyQnP7bVk"
      },
      "source": [
        "import seaborn as sns\n",
        "import matplotlib.pyplot as plt\n",
        "from sklearn.metrics import accuracy_score, roc_curve, auc\n",
        "\n",
        "def evaluate_roc(probs, y_true):\n",
        "    \"\"\"\n",
        "    @params    probs (np.array): an array of predicted probabilities with shape (len(y_true), 2)\n",
        "    @params    y_true (np.array): an array of the true values with shape (len(y_true),)\n",
        "    \"\"\"\n",
        "    preds = probs[:, 1]\n",
        "    fpr, tpr, threshold = roc_curve(y_true, preds)\n",
        "    roc_auc = auc(fpr, tpr)\n",
        "    print(f'AUC: {roc_auc:.4f}')\n",
        "       \n",
        "    y_pred = np.where(preds >= 0.5, 1, 0)\n",
        "    accuracy = accuracy_score(y_true, y_pred)\n",
        "    print(f'Accuracy: {accuracy*100:.2f}%')\n",
        "    \n",
        "    # Plot ROC AUC\n",
        "    plt.title('Receiver Operating Characteristic')\n",
        "    plt.plot(fpr, tpr, 'b', label = 'AUC = %0.2f' % roc_auc)\n",
        "    plt.legend(loc = 'lower right')\n",
        "    plt.plot([0, 1], [0, 1],'r--')\n",
        "    plt.xlim([0, 1])\n",
        "    plt.ylim([0, 1])\n",
        "    plt.ylabel('True Positive Rate')\n",
        "    plt.xlabel('False Positive Rate')\n",
        "    plt.show()\n"
      ],
      "execution_count": 219,
      "outputs": []
    },
    {
      "cell_type": "code",
      "metadata": {
        "id": "dyu0-tfrfAGI",
        "colab": {
          "base_uri": "https://localhost:8080/",
          "height": 329
        },
        "outputId": "1098d7b3-0791-4b74-dec3-aa8e11176661"
      },
      "source": [
        "# Compute predicted probabilities on the test set\n",
        "\n",
        "probs = bert_predict(model, test_dataloader)\n",
        "\n",
        "# Evaluate the Bert classifier\n",
        "\n",
        "evaluate_roc(probs, test_targets)"
      ],
      "execution_count": 220,
      "outputs": [
        {
          "output_type": "stream",
          "name": "stdout",
          "text": [
            "AUC: 0.8659\n",
            "Accuracy: 78.28%\n"
          ]
        },
        {
          "output_type": "display_data",
          "data": {
            "image/png": "[encoded data removed]",
            "text/plain": [
              "<Figure size 432x288 with 1 Axes>"
            ]
          },
          "metadata": {
            "needs_background": "light"
          }
        }
      ]
    },
    {
      "cell_type": "code",
      "metadata": {
        "id": "QSM5CcpEdWjO"
      },
      "source": [
        ""
      ],
      "execution_count": null,
      "outputs": []
    }
  ]
}